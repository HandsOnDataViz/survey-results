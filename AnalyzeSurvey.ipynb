{
 "cells": [
  {
   "cell_type": "markdown",
   "metadata": {},
   "source": [
    "# Clean Lat/Lon\n",
    "### Handle locations that could not be geocoded\n",
    "* See https://github.com/geopandas/geopandas/pull/1610/\n",
    "* Manually change the local Python file for `geopandas.tools.geocoding.py` as the merged change is not currently released"
   ]
  },
  {
   "cell_type": "code",
   "execution_count": 31,
   "metadata": {},
   "outputs": [],
   "source": [
    "import geopandas as gpd\n",
    "import numpy as np\n",
    "import pandas as pd"
   ]
  },
  {
   "cell_type": "markdown",
   "metadata": {},
   "source": [
    "## Read survey data"
   ]
  },
  {
   "cell_type": "code",
   "execution_count": 8,
   "metadata": {},
   "outputs": [
    {
     "name": "stdout",
     "output_type": "stream",
     "text": [
      "Total responses:  3034\n"
     ]
    }
   ],
   "source": [
    "data = gpd.read_file('raw/survey.csv')\n",
    "print('Total responses: ', data.shape[0])"
   ]
  },
  {
   "cell_type": "markdown",
   "metadata": {},
   "source": [
    "## Clean up"
   ]
  },
  {
   "cell_type": "code",
   "execution_count": 17,
   "metadata": {},
   "outputs": [
    {
     "name": "stdout",
     "output_type": "stream",
     "text": [
      "Responses with non-empty locations: 2783\n"
     ]
    }
   ],
   "source": [
    "# Replace blanks with NaN\n",
    "data.Location = data.Location.str.strip().str.upper().replace('', np.nan)\n",
    "\n",
    "# Copy non-null locations into a new series\n",
    "locations = data.Location.dropna()\n",
    "\n",
    "print('Responses with non-empty locations:', locations.shape[0])"
   ]
  },
  {
   "cell_type": "markdown",
   "metadata": {},
   "source": [
    "## Geocode with Nominatim\n",
    "This takes around 20 minutes"
   ]
  },
  {
   "cell_type": "code",
   "execution_count": null,
   "metadata": {},
   "outputs": [],
   "source": [
    "geocoded_dfs = []\n",
    "\n",
    "for idx in range(0, locations.shape[0], 50):\n",
    "    print(idx)\n",
    "    \n",
    "    df = gpd.tools.geocode(\n",
    "        locations.iloc[ idx : idx+50 ],\n",
    "        provider='nominatim',\n",
    "        user_agent='testing_nominatim'\n",
    "    )\n",
    "    geocoded_dfs.append( df )"
   ]
  },
  {
   "cell_type": "markdown",
   "metadata": {},
   "source": [
    "## Join all geocoded dataframes together"
   ]
  },
  {
   "cell_type": "code",
   "execution_count": 102,
   "metadata": {},
   "outputs": [
    {
     "name": "stdout",
     "output_type": "stream",
     "text": [
      "Successfully geocoded:  2735\n"
     ]
    }
   ],
   "source": [
    "geocoded = pd.concat(geocoded_dfs)\n",
    "\n",
    "print( \"Successfully geocoded: \", geocoded[~geocoded.geometry.is_empty].geometry.count() )"
   ]
  },
  {
   "cell_type": "markdown",
   "metadata": {},
   "source": [
    "## Assign continents and save"
   ]
  },
  {
   "cell_type": "code",
   "execution_count": 103,
   "metadata": {},
   "outputs": [],
   "source": [
    "# Read continents shapefile\n",
    "continents = gpd.read_file('raw/continents.geojson')\n",
    "\n",
    "# Perform spatial join\n",
    "final = gpd.sjoin(geocoded, continents, how='left')\n",
    "\n",
    "# Create Lat & Lng columns\n",
    "final['Lat'] = final.geometry.apply(lambda x: x.coords[0][1] if x else None)\n",
    "final['Lng'] = final.geometry.apply(lambda x: x.coords[0][0] if x else None)\n",
    "\n",
    "\n",
    "# Save\n",
    "final.to_csv('data/data.csv', index=False)"
   ]
  },
  {
   "cell_type": "markdown",
   "metadata": {},
   "source": [
    "## Counts by continent"
   ]
  },
  {
   "cell_type": "code",
   "execution_count": 75,
   "metadata": {},
   "outputs": [
    {
     "data": {
      "text/plain": [
       "Asia             904\n",
       "North America    782\n",
       "Europe           510\n",
       "South America    168\n",
       "Africa           147\n",
       "Australia         70\n",
       "Oceania           11\n",
       "Name: CONTINENT, dtype: int64"
      ]
     },
     "execution_count": 75,
     "metadata": {},
     "output_type": "execute_result"
    }
   ],
   "source": [
    "final.CONTINENT.value_counts()"
   ]
  },
  {
   "cell_type": "markdown",
   "metadata": {},
   "source": [
    "# Prepare scatterplot data"
   ]
  },
  {
   "cell_type": "code",
   "execution_count": 108,
   "metadata": {},
   "outputs": [],
   "source": [
    "scatter = pd.read_csv(\n",
    "    'raw/survey.csv',\n",
    "    usecols=['Years of school', 'Experience with data visualization']\n",
    ").dropna()"
   ]
  },
  {
   "cell_type": "code",
   "execution_count": 112,
   "metadata": {},
   "outputs": [],
   "source": [
    "scatter.groupby(\n",
    "    ['Experience with data visualization', 'Years of school']\n",
    ").size().reset_index().to_csv('data/scatter.csv', index=False)"
   ]
  },
  {
   "cell_type": "code",
   "execution_count": 115,
   "metadata": {},
   "outputs": [
    {
     "data": {
      "text/plain": [
       "1.0    1097\n",
       "2.0     686\n",
       "3.0     676\n",
       "4.0     215\n",
       "5.0      79\n",
       "Name: Experience with data visualization, dtype: int64"
      ]
     },
     "execution_count": 115,
     "metadata": {},
     "output_type": "execute_result"
    }
   ],
   "source": [
    "scatter['Experience with data visualization'].value_counts()"
   ]
  },
  {
   "cell_type": "code",
   "execution_count": 116,
   "metadata": {},
   "outputs": [
    {
     "data": {
      "text/plain": [
       "20.0    1333\n",
       "16.0     775\n",
       "18.0     176\n",
       "17.0     116\n",
       "15.0      93\n",
       "12.0      73\n",
       "19.0      57\n",
       "14.0      49\n",
       "13.0      25\n",
       "10.0      22\n",
       "6.0       13\n",
       "0.0        7\n",
       "8.0        5\n",
       "11.0       4\n",
       "7.0        3\n",
       "9.0        2\n",
       "Name: Years of school, dtype: int64"
      ]
     },
     "execution_count": 116,
     "metadata": {},
     "output_type": "execute_result"
    }
   ],
   "source": [
    "scatter['Years of school'].value_counts()"
   ]
  },
  {
   "cell_type": "code",
   "execution_count": 126,
   "metadata": {},
   "outputs": [
    {
     "data": {
      "text/plain": [
       "Experience with data visualization    2457\n",
       "Years of school                       2457\n",
       "dtype: int64"
      ]
     },
     "execution_count": 126,
     "metadata": {},
     "output_type": "execute_result"
    }
   ],
   "source": [
    "scatter[ scatter['Years of school'] >= 16 ].count()"
   ]
  },
  {
   "cell_type": "code",
   "execution_count": 124,
   "metadata": {},
   "outputs": [
    {
     "data": {
      "text/plain": [
       "Experience with data visualization    2753\n",
       "Years of school                       2753\n",
       "dtype: int64"
      ]
     },
     "execution_count": 124,
     "metadata": {},
     "output_type": "execute_result"
    }
   ],
   "source": [
    "scatter.count()"
   ]
  },
  {
   "cell_type": "code",
   "execution_count": 127,
   "metadata": {},
   "outputs": [
    {
     "data": {
      "text/plain": [
       "0.8924809298946603"
      ]
     },
     "execution_count": 127,
     "metadata": {},
     "output_type": "execute_result"
    }
   ],
   "source": [
    "2457/2753"
   ]
  },
  {
   "cell_type": "code",
   "execution_count": null,
   "metadata": {},
   "outputs": [],
   "source": []
  }
 ],
 "metadata": {
  "kernelspec": {
   "display_name": "Python 3.8.1 64-bit ('gis': conda)",
   "language": "python",
   "name": "python38164bitgiscondaf3b0cb5d1bf74b59a9777bd4a328c48a"
  },
  "language_info": {
   "codemirror_mode": {
    "name": "ipython",
    "version": 3
   },
   "file_extension": ".py",
   "mimetype": "text/x-python",
   "name": "python",
   "nbconvert_exporter": "python",
   "pygments_lexer": "ipython3",
   "version": "3.8.2"
  }
 },
 "nbformat": 4,
 "nbformat_minor": 4
}
